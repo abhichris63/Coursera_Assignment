{
 "cells": [
  {
   "cell_type": "markdown",
   "id": "c43977de-2529-42b0-8246-ba0e16b9d96c",
   "metadata": {},
   "source": [
    "# Exercise 1: Create a Jupyter Notebook"
   ]
  },
  {
   "cell_type": "code",
   "execution_count": null,
   "id": "b845ab2a-c413-4574-8ea1-9d251cdcbad3",
   "metadata": {},
   "outputs": [],
   "source": []
  },
  {
   "cell_type": "markdown",
   "id": "19ef1c96-4daa-4b96-8799-afe1dac46114",
   "metadata": {},
   "source": [
    "### Exercise 2: Create markdown cell with title of the notebook"
   ]
  },
  {
   "cell_type": "markdown",
   "id": "632b6a98-3794-4db0-9e8a-2d85a72add60",
   "metadata": {},
   "source": [
    "# Data Science Tools and Ecosystem"
   ]
  },
  {
   "cell_type": "code",
   "execution_count": null,
   "id": "4874db6f-1e8b-4fd0-900d-f0551763f535",
   "metadata": {},
   "outputs": [],
   "source": []
  },
  {
   "cell_type": "markdown",
   "id": "2c6af3ea-4437-4883-b449-19d729bac293",
   "metadata": {},
   "source": [
    "### Exercise 3 - Create a markdown cell for an introduction"
   ]
  },
  {
   "cell_type": "markdown",
   "id": "9a55d509-7dd9-40e4-b809-7561de4bf4d1",
   "metadata": {},
   "source": [
    "In this notebook, Data Science Tools and Ecosystem are summarized."
   ]
  },
  {
   "cell_type": "markdown",
   "id": "03312cd3-948e-4579-9f14-69e72a9673b8",
   "metadata": {},
   "source": [
    "**Objectives:**\n",
    "\n",
    "* List popular languages that Data Scientists use.\n",
    "* List commonly used libraries used by Data Scientists.\n",
    "* Comment on Data Science tools."
   ]
  },
  {
   "cell_type": "code",
   "execution_count": null,
   "id": "44a59683-5fbc-4700-8fad-2c32f658c39d",
   "metadata": {},
   "outputs": [],
   "source": []
  },
  {
   "cell_type": "markdown",
   "id": "38e90a7c-c64b-42d4-8495-c115da20a073",
   "metadata": {},
   "source": [
    "### Exercise 4 - Create a markdown cell to list data science languages"
   ]
  },
  {
   "cell_type": "markdown",
   "id": "88ef34a9-3e68-4a8a-9ae7-a23d63a39e5f",
   "metadata": {},
   "source": [
    "Some of the popular languages that Data Scientists use are:\n",
    "\n",
    "1. Python\n",
    "2. Scala\n",
    "3. R\n",
    "4. Java\n",
    "5. Julia\n",
    "6. C/C++\n",
    "7. SQL\n",
    "8. JavaScript"
   ]
  },
  {
   "cell_type": "markdown",
   "id": "8688600c-f343-4db1-a72b-88bccab8cfb7",
   "metadata": {},
   "source": []
  },
  {
   "cell_type": "markdown",
   "id": "1c9365e5-8030-4e59-a74e-3e220e875498",
   "metadata": {},
   "source": [
    "### Exercise 5 - Create a markdown cell to list data science libraries"
   ]
  },
  {
   "cell_type": "markdown",
   "id": "e32ab7a6-0b65-4fb6-8eb3-eb28e1558035",
   "metadata": {},
   "source": [
    "Some of the commonly used libraries used by Data Scientists include:\n",
    "\n",
    "1. Pandas\n",
    "2. Numpy\n",
    "3. Matplotlib\n",
    "4. Scikit-Learn\n",
    "5. Scapy\n",
    "6. Beautiful Soup\n",
    "7. TensorFlow\n",
    "8. PyTorch\n",
    "9. Keras\n",
    "10. PyBrain"
   ]
  },
  {
   "cell_type": "code",
   "execution_count": null,
   "id": "6a2cad5d-e7d5-4513-894d-e35b2b112a8a",
   "metadata": {},
   "outputs": [],
   "source": []
  },
  {
   "cell_type": "markdown",
   "id": "30d206c5-0dde-422d-a9a1-a99965999331",
   "metadata": {},
   "source": [
    "### Exercise 6 - Create a markdown cell with a table of Data Science tools"
   ]
  },
  {
   "cell_type": "markdown",
   "id": "59a921e1-4e4c-4617-8ef2-f19b990285c4",
   "metadata": {},
   "source": [
    "<table>\n",
    "    <tr>\n",
    "        <th>\n",
    "            <Strong> Data Science Tools </Strong>\n",
    "        </th>\n",
    "    </tr>\n",
    "    <tr>\n",
    "        <td>\n",
    "            TensorFlow\n",
    "        </td>\n",
    "    </tr>\n",
    "    <tr>\n",
    "        <td>\n",
    "            RStudio\n",
    "        </td>\n",
    "    </tr>\n",
    "    <tr>\n",
    "        <td>\n",
    "            Apache Spark\n",
    "        </td>\n",
    "    </tr>\n",
    "\n",
    "</table>"
   ]
  },
  {
   "cell_type": "code",
   "execution_count": null,
   "id": "9a67f158-a3a1-4cdd-b245-266e23433265",
   "metadata": {},
   "outputs": [],
   "source": []
  },
  {
   "cell_type": "markdown",
   "id": "6fbfb296-cb8e-4627-873f-58f70324c11d",
   "metadata": {},
   "source": [
    "### Exercise 7 - Create a markdown cell introducing arithmetic expression examples"
   ]
  },
  {
   "cell_type": "markdown",
   "id": "da884f26-a05b-41de-a28d-35fea46602b3",
   "metadata": {},
   "source": [
    "### Below are a few examples of evaluating arithmetic expressions in Python"
   ]
  },
  {
   "cell_type": "code",
   "execution_count": 14,
   "id": "27090b8a-1a40-44af-8bdd-8fa4fd73fa47",
   "metadata": {},
   "outputs": [
    {
     "name": "stdout",
     "output_type": "stream",
     "text": [
      "13.375\n"
     ]
    }
   ],
   "source": [
    "# Arithmetic operations\n",
    "x = 2 + 3 * 4 - 5 / 2 ** 3\n",
    "result = x\n",
    "print(result)\n",
    "# Output: 13.375"
   ]
  },
  {
   "cell_type": "code",
   "execution_count": 15,
   "id": "4586a5ab-d135-471c-bd12-6d48876b2617",
   "metadata": {},
   "outputs": [
    {
     "name": "stdout",
     "output_type": "stream",
     "text": [
      "32\n"
     ]
    }
   ],
   "source": [
    "x = 2\n",
    "y = 5\n",
    "z = x ** y\n",
    "result = z\n",
    "print(result)\n",
    "# Output: 32"
   ]
  },
  {
   "cell_type": "code",
   "execution_count": null,
   "id": "2fd204eb-f41a-4180-a6f2-54163eb21594",
   "metadata": {},
   "outputs": [],
   "source": []
  },
  {
   "cell_type": "markdown",
   "id": "d7e1f78a-7b39-4e74-874a-af6ed3e0eba7",
   "metadata": {},
   "source": [
    "### Exercise 8 - Create a code cell to multiply and add numbers"
   ]
  },
  {
   "cell_type": "markdown",
   "id": "40abc203-fc51-4ea4-bace-79bad93a27be",
   "metadata": {},
   "source": [
    "This a simple arithmetic expression to mutiply then add integers"
   ]
  },
  {
   "cell_type": "code",
   "execution_count": 16,
   "id": "18abcfb5-1842-4aea-977d-ff75583e831d",
   "metadata": {},
   "outputs": [
    {
     "data": {
      "text/plain": [
       "17"
      ]
     },
     "execution_count": 16,
     "metadata": {},
     "output_type": "execute_result"
    }
   ],
   "source": [
    "(3*4)+5"
   ]
  },
  {
   "cell_type": "code",
   "execution_count": null,
   "id": "d65c953b-d350-4986-9c7a-5c3b189b4cb7",
   "metadata": {},
   "outputs": [],
   "source": []
  },
  {
   "cell_type": "markdown",
   "id": "4d2c762b-618a-4336-a7f3-cabf740c0bdf",
   "metadata": {},
   "source": [
    "### Exercise 9 - Create a code cell to convert minutes to hours"
   ]
  },
  {
   "cell_type": "markdown",
   "id": "f86eb51a-ff75-459a-b90c-abb0b9874cb5",
   "metadata": {},
   "source": [
    "This will convert 200 minutes to hours by diving by 60"
   ]
  },
  {
   "cell_type": "code",
   "execution_count": 28,
   "id": "50363f7b-a105-47be-8ae4-66283a747cb8",
   "metadata": {},
   "outputs": [
    {
     "name": "stdout",
     "output_type": "stream",
     "text": [
      "Hours= 3\n",
      "Minutes= 20\n"
     ]
    }
   ],
   "source": [
    "min = 200\n",
    "h = min // 60\n",
    "m = min % 60\n",
    "print(\"Hours=\",h)\n",
    "print(\"Minutes=\",m)"
   ]
  },
  {
   "cell_type": "code",
   "execution_count": null,
   "id": "161afd36-d6b3-4d93-abdf-7b444ada36a7",
   "metadata": {},
   "outputs": [],
   "source": []
  },
  {
   "cell_type": "markdown",
   "id": "8b82a353-3ec4-4703-8948-4effc0bf2d88",
   "metadata": {},
   "source": [
    "### Exercise 10 - Insert a markdown cell to list Objectives"
   ]
  },
  {
   "cell_type": "markdown",
   "id": "c699cbcc-b894-4640-bde7-8890eddfcb54",
   "metadata": {},
   "source": [
    "Below the introduction cell created in Exercise 3, insert a new markdown cell to list the objectives that this notebook covered (i.e. some of the key takeaways from the course). In this new cell start with an introductory line titled: Objectives: in bold font. Then using an unordered list (bullets) indicate 3 to 5 items covered in this notebook, such as List popular languages for Data Science."
   ]
  },
  {
   "cell_type": "code",
   "execution_count": null,
   "id": "3fe35b6b-645d-42db-960f-ba512fc60773",
   "metadata": {},
   "outputs": [],
   "source": []
  },
  {
   "cell_type": "markdown",
   "id": "61f689d7-da8b-41d2-a85a-0b7a08aee242",
   "metadata": {},
   "source": [
    "### Exercise 11 - Create a markdown cell to indicate the Author's name"
   ]
  },
  {
   "cell_type": "markdown",
   "id": "6b570302-e82b-48f8-a9f3-4b64bab22399",
   "metadata": {},
   "source": [
    "## Author:"
   ]
  },
  {
   "cell_type": "markdown",
   "id": "5aefa378-f726-4d62-a6dd-04332f655303",
   "metadata": {},
   "source": [
    "Abhishek"
   ]
  }
 ],
 "metadata": {
  "kernelspec": {
   "display_name": "Python 3 (ipykernel)",
   "language": "python",
   "name": "python3"
  },
  "language_info": {
   "codemirror_mode": {
    "name": "ipython",
    "version": 3
   },
   "file_extension": ".py",
   "mimetype": "text/x-python",
   "name": "python",
   "nbconvert_exporter": "python",
   "pygments_lexer": "ipython3",
   "version": "3.10.9"
  }
 },
 "nbformat": 4,
 "nbformat_minor": 5
}
